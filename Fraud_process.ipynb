{
 "cells": [
  {
   "cell_type": "code",
   "execution_count": 3,
   "metadata": {},
   "outputs": [],
   "source": [
    "import pandas as pd\n",
    "# from pandas.plotting import scatter_matrix\n",
    "import numpy as np\n",
    "import seaborn as sns\n",
    "import matplotlib.pyplot as plt\n",
    "import mpld3\n",
    "%matplotlib inline\n",
    "# mpld3.enable_notebook()\n",
    "\n",
    "N_JOBS = 5"
   ]
  },
  {
   "cell_type": "code",
   "execution_count": 4,
   "metadata": {},
   "outputs": [],
   "source": [
    "datatrain = pd.read_csv('dataset/fraud_train.csv')\n",
    "datatest = pd.read_csv('dataset/fraud_train.csv')"
   ]
  },
  {
   "cell_type": "markdown",
   "metadata": {},
   "source": [
    "# Step\n",
    "1. praprocessing\n",
    "    1. preparing the preparation\n",
    "    2. Exploratory Data Analysis\n",
    "    3. Dealing with Missing Values\n",
    "    4. Dealing with Outliers\n",
    "    5. Dealing with Imbalanced Data\n",
    "    6. Data Transformations\n",
    "    7. Finishing Touches & Moving Ahead\n",
    "2. process\n",
    "    1. Logistic Regression\n",
    "    2. Decision Tree\n",
    "    3. Random Forest\n",
    "    4. Neural Networks\n",
    "3. summary and conclutions"
   ]
  },
  {
   "cell_type": "markdown",
   "metadata": {},
   "source": [
    "## Refference\n",
    "1. praprocessing \n",
    "    1. https://github.com/pandas-dev/pandas/blob/master/doc/cheatsheet/Pandas_Cheat_Sheet.pdf\n",
    "    1. https://www.kaggle.com/ekami66/detailed-exploratory-data-analysis-with-python\n",
    "    1. https://www.kdnuggets.com/2017/06/7-steps-mastering-data-preparation-python.html/2\n",
    "    1. https://github.com/pandas-profiling/pandas-profiling\n",
    "    2. https://machinelearningmastery.com/prepare-data-machine-learning-python-scikit-learn/\n",
    "    3. https://www.geeksforgeeks.org/data-preprocessing-machine-learning-python/\n",
    "    1. https://www.analyticsvidhya.com/blog/2016/07/practical-guide-data-preprocessing-python-scikit-learn/\n",
    "    1. https://medium.com/open-machine-learning-course/open-machine-learning-course-topic-1-exploratory-data-analysis-with-pandas-de57880f1a68\n",
    "    1. https://github.com/ajaymache/data-analysis-using-python\n",
    "1. process"
   ]
  },
  {
   "cell_type": "code",
   "execution_count": null,
   "metadata": {},
   "outputs": [],
   "source": []
  },
  {
   "cell_type": "markdown",
   "metadata": {},
   "source": [
    "## 1. Praprocessing"
   ]
  },
  {
   "cell_type": "markdown",
   "metadata": {},
   "source": [
    "### B. Exploratory Data Analysis"
   ]
  },
  {
   "cell_type": "code",
   "execution_count": null,
   "metadata": {},
   "outputs": [],
   "source": [
    "datatrain.head()"
   ]
  },
  {
   "cell_type": "code",
   "execution_count": null,
   "metadata": {},
   "outputs": [],
   "source": [
    "# datatrain[\"nama_merchant\"].value_counts()\n",
    "# sns.set(rc={'figure.figsize':(11.7,8.27)})\n",
    "# ax = sns.countplot(x=\"nama_merchant\", data=datatrain)\n",
    "\n",
    "# total = len(datatrain)\n",
    "# for p in ax.patches:\n",
    "#         ax.annotate('({:.1f}%)'.format(100*p.get_height()/total), (p.get_x()+0.1, p.get_height()+5))"
   ]
  },
  {
   "cell_type": "code",
   "execution_count": null,
   "metadata": {},
   "outputs": [],
   "source": [
    "graphout = datatrain[['flag_transaksi_fraud','tipe_kartu','nama_transaksi','nama_channel']]\n",
    "fig, axes = plt.subplots(round(len(graphout.columns) / 2), 2, figsize=(12, 12))\n",
    "total = len(graphout)\n",
    "\n",
    "for i, ax in enumerate(fig.axes):\n",
    "    if i < len(graphout.columns):\n",
    "        ax.set_xticklabels(ax.xaxis.get_majorticklabels(), rotation=45)\n",
    "        sns.countplot(x=graphout.columns[i], alpha=0.7, data=graphout, ax=ax)\n",
    "    for p in ax.patches:\n",
    "        ax.annotate('{:.1f}%'.format(100*p.get_height()/total), (p.get_x()+0.1, p.get_height()+5))\n",
    "\n",
    "fig.tight_layout()"
   ]
  },
  {
   "cell_type": "code",
   "execution_count": null,
   "metadata": {},
   "outputs": [],
   "source": [
    "# datatrain.corr()"
   ]
  },
  {
   "cell_type": "code",
   "execution_count": null,
   "metadata": {},
   "outputs": [],
   "source": [
    "graphoutscatter = datatrain[['flag_transaksi_fraud','tipe_kartu','nama_transaksi','nama_channel', 'nilai_transaksi']]\n",
    "# fig, axes = plt.subplots(round(len(graphoutscatter.columns) / 2), 2, figsize=(12, 12))\n",
    "        \n",
    "for i in range(0, round(len(graphoutscatter.columns) / 2), 2):\n",
    "    sns.pairplot(data=graphoutscatter,\n",
    "                x_vars=graphoutscatter.columns[i:i+5],\n",
    "                y_vars=['nilai_transaksi'])"
   ]
  },
  {
   "cell_type": "code",
   "execution_count": null,
   "metadata": {},
   "outputs": [],
   "source": [
    "f, ax = plt.subplots(figsize=(15, 15))\n",
    "corr = datatrain.corr(method='pearson')\n",
    "# corr = datatrain.corr(method='spearman')\n",
    "\n",
    "ax = sns.heatmap(corr, mask=np.zeros_like(corr, dtype=np.bool), cmap=sns.diverging_palette(220, 10, as_cmap=True),\n",
    "            square=True, ax=ax, annot=True, annot_kws={\"size\": 8}, fmt='.1g')#, cmap='viridis')\n",
    "ax.set_title('Correlation pearson')"
   ]
  },
  {
   "cell_type": "code",
   "execution_count": null,
   "metadata": {},
   "outputs": [],
   "source": [
    "import pandas_profiling\n",
    "pandas_profiling.ProfileReport(datatrain)"
   ]
  },
  {
   "cell_type": "markdown",
   "metadata": {},
   "source": [
    "### C. Dealing with Missing Values\n",
    "\n",
    "1. https://clevertap.com/blog/how-to-treat-missing-values-in-your-data-part-i/\n",
    "1. https://clevertap.com/blog/how-to-treat-missing-values-in-your-data-part-ii/\n",
    "\n",
    "#### method\n",
    "1. delete row (with nan val)\n",
    "1. average nan from global value\n",
    "1. predict \n",
    "\n",
    "#### tools\n",
    "1. http://pandas.pydata.org/pandas-docs/stable/missing_data.html\n",
    "1. http://scikit-learn.org/stable/modules/preprocessing.html#imputation-of-missing-values\n",
    "1. KNN https://towardsdatascience.com/the-use-of-knn-for-missing-values-cf33d935c637\n",
    "1. KNN sklearn https://github.com/scikit-learn/scikit-learn/pull/9212\n",
    "1. KNN keagle https://www.kaggle.com/dan195/knn-imputation-gbregression-an-plsregression"
   ]
  },
  {
   "cell_type": "code",
   "execution_count": null,
   "metadata": {},
   "outputs": [],
   "source": [
    "datatrain.shape"
   ]
  },
  {
   "cell_type": "code",
   "execution_count": null,
   "metadata": {},
   "outputs": [],
   "source": [
    "datatrain.dropna().shape"
   ]
  },
  {
   "cell_type": "code",
   "execution_count": null,
   "metadata": {},
   "outputs": [],
   "source": [
    "datatrain.isnull().values.any()"
   ]
  },
  {
   "cell_type": "code",
   "execution_count": null,
   "metadata": {},
   "outputs": [],
   "source": [
    "datatrain.isnull().sum()#.sum()"
   ]
  },
  {
   "cell_type": "code",
   "execution_count": null,
   "metadata": {},
   "outputs": [],
   "source": [
    "nan_rows = datatrain[datatrain.isnull().T.any().T]\n",
    "nan_rows"
   ]
  },
  {
   "cell_type": "code",
   "execution_count": null,
   "metadata": {},
   "outputs": [],
   "source": [
    "datatrain.describe()"
   ]
  },
  {
   "cell_type": "code",
   "execution_count": null,
   "metadata": {},
   "outputs": [],
   "source": [
    "datatrain.info() "
   ]
  },
  {
   "cell_type": "markdown",
   "metadata": {},
   "source": [
    "##### a. Handling missing value with drop row"
   ]
  },
  {
   "cell_type": "code",
   "execution_count": null,
   "metadata": {},
   "outputs": [],
   "source": [
    "datatrain1 = datatrain.dropna()"
   ]
  },
  {
   "cell_type": "code",
   "execution_count": null,
   "metadata": {},
   "outputs": [],
   "source": [
    "datatrain1 =  datatrain.fillna(0)\n",
    "datatrain1[datatrain1.isnull().T.any().T]"
   ]
  },
  {
   "cell_type": "code",
   "execution_count": null,
   "metadata": {},
   "outputs": [],
   "source": [
    "# datatrain.count()"
   ]
  },
  {
   "cell_type": "code",
   "execution_count": null,
   "metadata": {},
   "outputs": [],
   "source": [
    "# datatrain.interpolate().count()"
   ]
  },
  {
   "cell_type": "markdown",
   "metadata": {},
   "source": [
    "##### b. Handling missing value with KNN"
   ]
  },
  {
   "cell_type": "code",
   "execution_count": null,
   "metadata": {},
   "outputs": [],
   "source": [
    "import numpy as np\n",
    "import pandas as pd\n",
    "from collections import defaultdict\n",
    "from scipy.stats import hmean\n",
    "from scipy.spatial.distance import cdist\n",
    "from scipy import stats\n",
    "import numbers\n",
    "\n",
    "\n",
    "def weighted_hamming(data):\n",
    "    \"\"\" Compute weighted hamming distance on categorical variables. For one variable, it is equal to 1 if\n",
    "        the values between point A and point B are different, else it is equal the relative frequency of the\n",
    "        distribution of the value across the variable. For multiple variables, the harmonic mean is computed\n",
    "        up to a constant factor.\n",
    "        @params:\n",
    "            - data = a pandas data frame of categorical variables\n",
    "        @returns:\n",
    "            - distance_matrix = a distance matrix with pairwise distance for all attributes\n",
    "    \"\"\"\n",
    "    categories_dist = []\n",
    "    \n",
    "    for category in data:\n",
    "        X = pd.get_dummies(data[category])\n",
    "        X_mean = X * X.mean()\n",
    "        X_dot = X_mean.dot(X.transpose())\n",
    "        X_np = np.asarray(X_dot.replace(0,1,inplace=False))\n",
    "        categories_dist.append(X_np)\n",
    "    categories_dist = np.array(categories_dist)\n",
    "    distances = hmean(categories_dist, axis=0)\n",
    "    return distances\n",
    "\n",
    "\n",
    "def distance_matrix(data, numeric_distance = \"euclidean\", categorical_distance = \"jaccard\"):\n",
    "    \"\"\" Compute the pairwise distance attribute by attribute in order to account for different variables type:\n",
    "        - Continuous\n",
    "        - Categorical\n",
    "        For ordinal values, provide a numerical representation taking the order into account.\n",
    "        Categorical variables are transformed into a set of binary ones.\n",
    "        If both continuous and categorical distance are provided, a Gower-like distance is computed and the numeric\n",
    "        variables are all normalized in the process.\n",
    "        If there are missing values, the mean is computed for numerical attributes and the mode for categorical ones.\n",
    "        \n",
    "        Note: If weighted-hamming distance is chosen, the computation time increases a lot since it is not coded in C \n",
    "        like other distance metrics provided by scipy.\n",
    "        @params:\n",
    "            - data                  = pandas dataframe to compute distances on.\n",
    "            - numeric_distances     = the metric to apply to continuous attributes.\n",
    "                                      \"euclidean\" and \"cityblock\" available.\n",
    "                                      Default = \"euclidean\"\n",
    "            - categorical_distances = the metric to apply to binary attributes.\n",
    "                                      \"jaccard\", \"hamming\", \"weighted-hamming\" and \"euclidean\"\n",
    "                                      available. Default = \"jaccard\"\n",
    "        @returns:\n",
    "            - the distance matrix\n",
    "    \"\"\"\n",
    "    possible_continuous_distances = [\"euclidean\", \"cityblock\"]\n",
    "    possible_binary_distances = [\"euclidean\", \"jaccard\", \"hamming\", \"weighted-hamming\"]\n",
    "    number_of_variables = data.shape[1]\n",
    "    number_of_observations = data.shape[0]\n",
    "\n",
    "    # Get the type of each attribute (Numeric or categorical)\n",
    "    is_numeric = [all(isinstance(n, numbers.Number) for n in data.iloc[:, i]) for i, x in enumerate(data)]\n",
    "    is_all_numeric = sum(is_numeric) == len(is_numeric)\n",
    "    is_all_categorical = sum(is_numeric) == 0\n",
    "    is_mixed_type = not is_all_categorical and not is_all_numeric\n",
    "\n",
    "    # Check the content of the distances parameter\n",
    "    if numeric_distance not in possible_continuous_distances:\n",
    "        print (\"The continuous distance \" + numeric_distance + \" is not supported.\")\n",
    "        return None\n",
    "    elif categorical_distance not in possible_binary_distances:\n",
    "        print (\"The binary distance \" + categorical_distance + \" is not supported.\")\n",
    "        return None\n",
    "\n",
    "    # Separate the data frame into categorical and numeric attributes and normalize numeric data\n",
    "    if is_mixed_type:\n",
    "        number_of_numeric_var = sum(is_numeric)\n",
    "        number_of_categorical_var = number_of_variables - number_of_numeric_var\n",
    "        data_numeric = data.iloc[:, is_numeric]\n",
    "        data_numeric = (data_numeric - data_numeric.mean()) / (data_numeric.max() - data_numeric.min())\n",
    "        data_categorical = data.iloc[:, [not x for x in is_numeric]]\n",
    "\n",
    "    # Replace missing values with column mean for numeric values and mode for categorical ones. With the mode, it\n",
    "    # triggers a warning: \"SettingWithCopyWarning: A value is trying to be set on a copy of a slice from a DataFrame\"\n",
    "    # but the value are properly replaced\n",
    "    if is_mixed_type:\n",
    "        data_numeric.fillna(data_numeric.mean(), inplace=True)\n",
    "        for x in data_categorical:\n",
    "            data_categorical[x].fillna(data_categorical[x].mode()[0], inplace=True)\n",
    "    elif is_all_numeric:\n",
    "        data.fillna(data.mean(), inplace=True)\n",
    "    else:\n",
    "        for x in data:\n",
    "            data[x].fillna(data[x].mode()[0], inplace=True)\n",
    "\n",
    "    # \"Dummifies\" categorical variables in place\n",
    "    if not is_all_numeric and not (categorical_distance == 'hamming' or categorical_distance == 'weighted-hamming'):\n",
    "        if is_mixed_type:\n",
    "            data_categorical = pd.get_dummies(data_categorical)\n",
    "        else:\n",
    "            data = pd.get_dummies(data)\n",
    "    elif not is_all_numeric and categorical_distance == 'hamming':\n",
    "        if is_mixed_type:\n",
    "            data_categorical = pd.DataFrame([pd.factorize(data_categorical[x])[0] for x in data_categorical]).transpose()\n",
    "        else:\n",
    "            data = pd.DataFrame([pd.factorize(data[x])[0] for x in data]).transpose()\n",
    "\n",
    "    if is_all_numeric:\n",
    "        result_matrix = cdist(data, data, metric=numeric_distance)\n",
    "    elif is_all_categorical:\n",
    "        if categorical_distance == \"weighted-hamming\":\n",
    "            result_matrix = weighted_hamming(data)\n",
    "        else:\n",
    "            result_matrix = cdist(data, data, metric=categorical_distance)\n",
    "    else:\n",
    "        result_numeric = cdist(data_numeric, data_numeric, metric=numeric_distance)\n",
    "        if categorical_distance == \"weighted-hamming\":\n",
    "            result_categorical = weighted_hamming(data_categorical)\n",
    "        else:\n",
    "            result_categorical = cdist(data_categorical, data_categorical, metric=categorical_distance)\n",
    "        result_matrix = np.array([[1.0*(result_numeric[i, j] * number_of_numeric_var + result_categorical[i, j] *\n",
    "                               number_of_categorical_var) / number_of_variables for j in range(number_of_observations)] for i in range(number_of_observations)])\n",
    "\n",
    "    # Fill the diagonal with NaN values\n",
    "    np.fill_diagonal(result_matrix, np.nan)\n",
    "\n",
    "    return pd.DataFrame(result_matrix)\n",
    "\n",
    "\n",
    "def knn_impute(target, attributes, k_neighbors, aggregation_method=\"mean\", numeric_distance=\"euclidean\",\n",
    "               categorical_distance=\"jaccard\", missing_neighbors_threshold = 0.5):\n",
    "    \"\"\" Replace the missing values within the target variable based on its k nearest neighbors identified with the\n",
    "        attributes variables. If more than 50% of its neighbors are also missing values, the value is not modified and\n",
    "        remains missing. If there is a problem in the parameters provided, returns None.\n",
    "        If to many neighbors also have missing values, leave the missing value of interest unchanged.\n",
    "        @params:\n",
    "            - target                        = a vector of n values with missing values that you want to impute. The length has\n",
    "                                              to be at least n = 3.\n",
    "            - attributes                    = a data frame of attributes with n rows to match the target variable\n",
    "            - k_neighbors                   = the number of neighbors to look at to impute the missing values. It has to be a\n",
    "                                              value between 1 and n.\n",
    "            - aggregation_method            = how to aggregate the values from the nearest neighbors (mean, median, mode)\n",
    "                                              Default = \"mean\"\n",
    "            - numeric_distances             = the metric to apply to continuous attributes.\n",
    "                                              \"euclidean\" and \"cityblock\" available.\n",
    "                                              Default = \"euclidean\"\n",
    "            - categorical_distances         = the metric to apply to binary attributes.\n",
    "                                              \"jaccard\", \"hamming\", \"weighted-hamming\" and \"euclidean\"\n",
    "                                              available. Default = \"jaccard\"\n",
    "            - missing_neighbors_threshold   = minimum of neighbors among the k ones that are not also missing to infer\n",
    "                                              the correct value. Default = 0.5\n",
    "        @returns:\n",
    "            target_completed        = the vector of target values with missing value replaced. If there is a problem\n",
    "                                      in the parameters, return None\n",
    "    \"\"\"\n",
    "\n",
    "    # Get useful variables\n",
    "    possible_aggregation_method = [\"mean\", \"median\", \"mode\"]\n",
    "    number_observations = len(target)\n",
    "    is_target_numeric = all(isinstance(n, numbers.Number) for n in target)\n",
    "\n",
    "    # Check for possible errors\n",
    "    if number_observations < 3:\n",
    "        print (\"Not enough observations.\")\n",
    "        return None\n",
    "    if attributes.shape[0] != number_observations:\n",
    "        print (\"The number of observations in the attributes variable is not matching the target variable length.\")\n",
    "        return None\n",
    "    if k_neighbors > number_observations or k_neighbors < 1:\n",
    "        print (\"The range of the number of neighbors is incorrect.\")\n",
    "        return None\n",
    "    if aggregation_method not in possible_aggregation_method:\n",
    "        print (\"The aggregation method is incorrect.\")\n",
    "        return None\n",
    "    if not is_target_numeric and aggregation_method != \"mode\":\n",
    "        print (\"The only method allowed for categorical target variable is the mode.\")\n",
    "        return None\n",
    "\n",
    "    # Make sure the data are in the right format\n",
    "    target = pd.DataFrame(target)\n",
    "    attributes = pd.DataFrame(attributes)\n",
    "\n",
    "    # Get the distance matrix and check whether no error was triggered when computing it\n",
    "    distances = distance_matrix(attributes, numeric_distance, categorical_distance)\n",
    "    if distances is None:\n",
    "        return None\n",
    "\n",
    "    # Get the closest points and compute the correct aggregation method\n",
    "    for i, value in enumerate(target.iloc[:, 0]):\n",
    "        if pd.isnull(value):\n",
    "            order = distances.iloc[i,:].values.argsort()[:k_neighbors]\n",
    "            closest_to_target = target.iloc[order, :]\n",
    "            missing_neighbors = [x for x  in closest_to_target.isnull().iloc[:, 0]]\n",
    "            # Compute the right aggregation method if at least more than 50% of the closest neighbors are not missing\n",
    "            if sum(missing_neighbors) >= missing_neighbors_threshold * k_neighbors:\n",
    "                continue\n",
    "            elif aggregation_method == \"mean\":\n",
    "                target.iloc[i] = np.ma.mean(np.ma.masked_array(closest_to_target,np.isnan(closest_to_target)))\n",
    "            elif aggregation_method == \"median\":\n",
    "                target.iloc[i] = np.ma.median(np.ma.masked_array(closest_to_target,np.isnan(closest_to_target)))\n",
    "            else:\n",
    "                target.iloc[i] = stats.mode(closest_to_target, nan_policy='omit')[0][0]\n",
    "\n",
    "    return target"
   ]
  },
  {
   "cell_type": "code",
   "execution_count": null,
   "metadata": {},
   "outputs": [],
   "source": [
    "hasil = knn_impute(target=datatrain['maksimum_nilai_transaksi'], attributes=datatrain.drop(['rata_rata_nilai_transaksi','minimum_nilai_transaksi','rata_rata_jumlah_transaksi'],1),\n",
    "                                    aggregation_method=\"median\", k_neighbors=10, numeric_distance='euclidean',\n",
    "                                    categorical_distance='hamming', missing_neighbors_threshold=0.9)"
   ]
  },
  {
   "cell_type": "code",
   "execution_count": null,
   "metadata": {},
   "outputs": [],
   "source": [
    "hasil1 = hasil.as_matrix()\n",
    "hasil1[3752]"
   ]
  },
  {
   "cell_type": "code",
   "execution_count": null,
   "metadata": {},
   "outputs": [],
   "source": [
    "datatrain['maksimum_nilai_transaksi'] = hasil"
   ]
  },
  {
   "cell_type": "code",
   "execution_count": null,
   "metadata": {},
   "outputs": [],
   "source": [
    "# hasil1 = datatrain.as_matrix()\n",
    "# hasil1[3752]\n",
    "datatrain[3752:3753]\n",
    "# array([12287602.94406288])"
   ]
  },
  {
   "cell_type": "markdown",
   "metadata": {},
   "source": [
    "### D. Dealing with Outliers\n",
    "\n",
    "1. https://www.kdnuggets.com/2017/02/removing-outliers-standard-deviation-python.html\n",
    "1. https://medium.com/@dhwajraj/learning-python-regression-analysis-part-7-handling-outliers-in-data-d36ee9e2130b\n",
    "1. https://www.kaggle.com/general/24617"
   ]
  },
  {
   "cell_type": "code",
   "execution_count": 6,
   "metadata": {},
   "outputs": [],
   "source": [
    "def mad_based_outlier(points, thresh=3.5):\n",
    "    if len(points.shape) == 1:\n",
    "        points = points[:,None]\n",
    "    median = np.median(points, axis=0)\n",
    "    diff = np.sum((points - median)**2, axis=-1)\n",
    "    diff = np.sqrt(diff)\n",
    "    med_abs_deviation = np.median(diff)\n",
    "\n",
    "    modified_z_score = 0.6745 * diff / med_abs_deviation\n",
    "\n",
    "    return modified_z_score > thresh\n",
    "\n",
    "def percentile_based_outlier(data, threshold=95):\n",
    "    diff = (100 - threshold) / 2.0\n",
    "    (minval, maxval) = np.percentile(data, [diff, 100 - diff])\n",
    "    return ((data < minval) | (data > maxval))\n",
    "\n",
    "\n",
    "def std_div(data, threshold=3):\n",
    "    std = data.std()\n",
    "    mean = data.mean()\n",
    "    isOutlier = []\n",
    "    for val in data:\n",
    "        if val/std > threshold:\n",
    "            isOutlier.append(True)\n",
    "        else:\n",
    "            isOutlier.append(False)\n",
    "    return isOutlier\n",
    "\n",
    "def outlierVote(data):\n",
    "    x = percentile_based_outlier(data)\n",
    "    y = mad_based_outlier(data)\n",
    "    z = std_div(data)\n",
    "    temp = list(zip(data.index, x, y, z))\n",
    "    final = []\n",
    "    for i in range(len(temp)):\n",
    "        if temp[i].count(False) >= 2:\n",
    "            final.append(False)\n",
    "        else:\n",
    "            final.append(True)\n",
    "    return final\n",
    "\n",
    "def plotOutlier(x):\n",
    "    fig, axes = plt.subplots(nrows=4)\n",
    "    for ax, func in zip(axes, [percentile_based_outlier, mad_based_outlier, std_div, outlierVote]):\n",
    "        sns.distplot(x, ax=ax, rug=True, hist=False)\n",
    "        outliers = x[func(x)]\n",
    "        ax.plot(outliers, np.zeros_like(outliers), 'ro', clip_on=False)\n",
    "\n",
    "    kwargs = dict(y=0.95, x=0.05, ha='left', va='top', size=20)\n",
    "    axes[0].set_title('Percentile-based Outliers', **kwargs)\n",
    "    axes[1].set_title('MAD-based Outliers', **kwargs)\n",
    "    axes[2].set_title('STD-based Outliers', **kwargs)\n",
    "    axes[3].set_title('Majority vote based Outliers', **kwargs)\n",
    "    fig.suptitle('Comparing Outlier Tests with n={}'.format(len(x)), size=20)\n",
    "    fig = plt.gcf()\n",
    "    fig.set_size_inches(15,10)\n",
    "    \n",
    "def plotOutlierFree(x):\n",
    "    fig, axes = plt.subplots(nrows=4)\n",
    "    nOutliers = []\n",
    "    for ax, func in zip(axes, [percentile_based_outlier, mad_based_outlier, std_div, outlierVote]):\n",
    "        tfOutlier = list(zip(x, func(x)))\n",
    "        nOutliers.append(len([index for (index, bol) in tfOutlier if bol == True]))\n",
    "        outlierFree = [index for (index, bol) in tfOutlier if bol == True]\n",
    "        sns.distplot(outlierFree, ax=ax, rug=True, hist=False)\n",
    "        \n",
    "    kwargs = dict(y=0.95, x=0.05, ha='left', va='top', size=15)\n",
    "    axes[0].set_title('Percentile-based Outliers, removed: {r}'.format(r=nOutliers[0]), **kwargs)\n",
    "    axes[1].set_title('MAD-based Outliers, removed: {r}'.format(r=nOutliers[1]), **kwargs)\n",
    "    axes[2].set_title('STD-based Outliers, removed: {r}'.format(r=nOutliers[2]), **kwargs)\n",
    "    axes[3].set_title('Majority vote based Outliers, removed: {r}'.format(r=nOutliers[3]), **kwargs)\n",
    "    fig.suptitle('Outlier Removed By Method with n={}'.format(len(x)), size=20)\n",
    "    fig = plt.gcf()\n",
    "    fig.set_size_inches(15,10)\n",
    "\n",
    "def outlierRatio(data):\n",
    "    functions = [percentile_based_outlier, mad_based_outlier, std_div, outlierVote]\n",
    "    outlierDict = {}\n",
    "    for func in functions:\n",
    "        funcResult = func(data)\n",
    "        count = 0\n",
    "        for val in funcResult:\n",
    "            if val == True:\n",
    "                count += 1 \n",
    "        outlierDict[str(func)[10:].split()[0]] = [count, '{:.2f}%'.format((float(count)/len(data))*100)]\n",
    "    \n",
    "    return outlierDict\n",
    "\n",
    "def replaceOutlier(data, method = outlierVote, replace='median'):\n",
    "    '''replace: median (auto)\n",
    "                'minUpper' which is the upper bound of the outlier detection'''\n",
    "    vote = outlierVote(data)\n",
    "    x = pd.DataFrame(list(zip(data, vote)), columns=['debt', 'outlier'])\n",
    "    if replace == 'median':\n",
    "        replace = x.debt.median()\n",
    "    elif replace == 'minUpper':\n",
    "        replace = min([val for (val, vote) in list(zip(data, vote)) if vote == True])\n",
    "        if replace < data.mean():\n",
    "            return 'There are outliers lower than the sample mean'\n",
    "    debtNew = []\n",
    "    for i in range(x.shape[0]):\n",
    "        if x.iloc[i][1] == True:\n",
    "            debtNew.append(replace)\n",
    "        else:\n",
    "            debtNew.append(x.iloc[i][0])\n",
    "    \n",
    "    return debtNew"
   ]
  },
  {
   "cell_type": "code",
   "execution_count": null,
   "metadata": {},
   "outputs": [],
   "source": [
    "datatrain.head()"
   ]
  },
  {
   "cell_type": "code",
   "execution_count": null,
   "metadata": {},
   "outputs": [],
   "source": [
    "datatrain.shape"
   ]
  },
  {
   "cell_type": "code",
   "execution_count": null,
   "metadata": {},
   "outputs": [],
   "source": [
    "graphoutbox = datatrain[['nilai_transaksi','rata_rata_nilai_transaksi','maksimum_nilai_transaksi','minimum_nilai_transaksi', 'rata_rata_jumlah_transaksi']]\n",
    "fig, axes = plt.subplots(round(len(graphoutbox.columns) / 2), 2, figsize=(12, 12))\n",
    "\n",
    "for i, ax in enumerate(fig.axes):\n",
    "    if i < len(graphoutbox.columns):\n",
    "        ax.set_xticklabels(ax.xaxis.get_majorticklabels(), rotation=45)\n",
    "        sns.boxplot(y=graphoutbox.columns[i],data=graphoutbox, ax=ax)\n",
    "\n",
    "fig.tight_layout()"
   ]
  },
  {
   "cell_type": "code",
   "execution_count": null,
   "metadata": {},
   "outputs": [],
   "source": [
    "import pprint\n",
    "print(\"nilai_transaksi : \")\n",
    "pprint.pprint(outlierRatio(datatrain.nilai_transaksi))\n",
    "print(\"\")\n",
    "print(\"rata_rata_nilai_transaksi : \")\n",
    "pprint.pprint(outlierRatio(datatrain.rata_rata_nilai_transaksi))\n",
    "print(\"\")\n",
    "print(\"maksimum_nilai_transaksi : \")\n",
    "pprint.pprint(outlierRatio(datatrain.maksimum_nilai_transaksi))\n",
    "print(\"\")\n",
    "print(\"minimum_nilai_transaksi : \")\n",
    "pprint.pprint(outlierRatio(datatrain.minimum_nilai_transaksi))\n",
    "print(\"\")\n",
    "print(\"rata_rata_jumlah_transaksi : \")\n",
    "pprint.pprint(outlierRatio(datatrain.rata_rata_jumlah_transaksi))"
   ]
  },
  {
   "cell_type": "code",
   "execution_count": null,
   "metadata": {},
   "outputs": [],
   "source": [
    "# datatrain.rata_rata_jumlah_transaksi.plot.box()\n",
    "# ax = sns.boxplot(y=datatrain[\"rata_rata_jumlah_transaksi\"])\n",
    "plotOutlier(datatrain.rata_rata_jumlah_transaksi)\n",
    "plotOutlierFree(datatrain.rata_rata_jumlah_transaksi)"
   ]
  },
  {
   "cell_type": "code",
   "execution_count": null,
   "metadata": {},
   "outputs": [],
   "source": [
    "# df = pd.DataFrame({'Data':np.random.normal(size=200)})\n",
    "# # example dataset of normally distributed data. \n",
    "\n",
    "# df[np.abs(df.Data-df.Data.mean()) <= (3*df.Data.std())]\n",
    "# # keep only the ones that are within +3 to -3 standard deviations in the column 'Data'.\n",
    "\n",
    "# df[~(np.abs(df.Data-df.Data.mean()) > (3*df.Data.std()))]\n",
    "# # or if you prefer the other way around\n",
    "\n",
    "# ================================================================================================================\n",
    "\n",
    "# fig, ax = plt.subplots(figsize=(16,8))\n",
    "# ax.scatter(datatrain['id_tanggal_transaksi_awal'], datatrain['rata_rata_nilai_transaksi'])\n",
    "# # ax.set_xlabel('Proportion of non-retail business acres per town')\n",
    "# # ax.set_ylabel('Full-value property-tax rate per $10,000')\n",
    "# plt.show()\n",
    "\n",
    "# ================================================================================================================\n",
    "\n",
    "# # a number \"a\" from the vector \"x\" is an outlier if \n",
    "# # a > median(x)+1.5*iqr(x) or a < median-1.5*iqr(x)\n",
    "# # iqr: interquantile range = third interquantile - first interquantile\n",
    "# def outliers(x): \n",
    "#        return np.abs(x- x.median()) > 1.5*(x.quantile(.75)-x.quantile(0.25))\n",
    "\n",
    "# # Give the outliers for the first column for example\n",
    "# datatrain.nilai_transaksi[outliers(datatrain.nilai_transaksi)]\n",
    "\n",
    "# # Replace the upper outlier(s) with the 95th percentile and the lower one(s) with the 5th percentile \n",
    "# def replace(x):   # x is a vector\n",
    "#        out = x[outliers(x)]\n",
    "#        return x.replace(to_replace = [out.min(),out.max()], \n",
    "#                         value = [np.percentile(x,5),np.percentile(x,95)])\n",
    "\n",
    "# # Apply replace() on each column of the dataframe\n",
    "# datatrain.apply(replace,axis=1)\n",
    "\n",
    "# datatrain[~datatrain.apply(outliers).any(axis=1)]"
   ]
  },
  {
   "cell_type": "code",
   "execution_count": null,
   "metadata": {},
   "outputs": [],
   "source": [
    "newRatJumTrans = replaceOutlier(datatrain.rata_rata_jumlah_transaksi, replace='median')#'minUpper')\n",
    "# newRatJumTrans"
   ]
  },
  {
   "cell_type": "code",
   "execution_count": null,
   "metadata": {},
   "outputs": [],
   "source": [
    "datatrain.head()"
   ]
  },
  {
   "cell_type": "code",
   "execution_count": 7,
   "metadata": {},
   "outputs": [
    {
     "name": "stdout",
     "output_type": "stream",
     "text": [
      "(12594, 28)\n",
      "(12042, 28)\n",
      "(11631, 28)\n",
      "(11075, 28)\n",
      "(10622, 28)\n",
      "(13125, 28)\n"
     ]
    }
   ],
   "source": [
    "def removeOutliers(data, item):\n",
    "    itemdata = data[item]\n",
    "    asd = data[np.abs(itemdata-itemdata.mean()) <= (3*itemdata.std())]\n",
    "    # keep only the ones that are within +3 to -3 standard deviations in the column 'Data'.\n",
    "\n",
    "    itemdata = asd[item]\n",
    "    asd = asd[~(np.abs(itemdata-itemdata.mean()) > (3*itemdata.std()))]\n",
    "    # or if you prefer the other way around\n",
    "    return asd\n",
    "\n",
    "newdatatrain = removeOutliers(datatrain, 'rata_rata_jumlah_transaksi')\n",
    "print(newdatatrain.shape)\n",
    "# print(datatrain.shape)\n",
    "\n",
    "newdatatrain = removeOutliers(newdatatrain, 'nilai_transaksi')\n",
    "print(newdatatrain.shape)\n",
    "# print(datatrain.shape)\n",
    "\n",
    "newdatatrain = removeOutliers(newdatatrain, 'rata_rata_nilai_transaksi')\n",
    "print(newdatatrain.shape)\n",
    "# print(datatrain.shape)\n",
    "\n",
    "newdatatrain = removeOutliers(newdatatrain, 'maksimum_nilai_transaksi')\n",
    "print(newdatatrain.shape)\n",
    "# print(datatrain.shape)\n",
    "\n",
    "newdatatrain = removeOutliers(newdatatrain, 'minimum_nilai_transaksi')\n",
    "print(newdatatrain.shape)\n",
    "print(datatrain.shape)"
   ]
  },
  {
   "cell_type": "code",
   "execution_count": 8,
   "metadata": {},
   "outputs": [
    {
     "data": {
      "image/png": "[encoded data removed]",
      "text/plain": [
       "<Figure size 864x864 with 4 Axes>"
      ]
     },
     "metadata": {
      "needs_background": "light"
     },
     "output_type": "display_data"
    }
   ],
   "source": [
    "graphoutbox = newdatatrain[['nilai_transaksi','rata_rata_nilai_transaksi','maksimum_nilai_transaksi','minimum_nilai_transaksi', 'rata_rata_jumlah_transaksi']]\n",
    "fig, axes = plt.subplots(round(len(graphoutbox.columns) / 2), 2, figsize=(12, 12))\n",
    "\n",
    "for i, ax in enumerate(fig.axes):\n",
    "    if i < len(graphoutbox.columns):\n",
    "        ax.set_xticklabels(ax.xaxis.get_majorticklabels(), rotation=45)\n",
    "        sns.boxplot(y=graphoutbox.columns[i],data=graphoutbox, ax=ax)\n",
    "\n",
    "fig.tight_layout()"
   ]
  },
  {
   "cell_type": "code",
   "execution_count": null,
   "metadata": {},
   "outputs": [],
   "source": []
  },
  {
   "cell_type": "markdown",
   "metadata": {},
   "source": [
    "### E. Dealing with Imbalanced Data\n"
   ]
  },
  {
   "cell_type": "code",
   "execution_count": null,
   "metadata": {},
   "outputs": [],
   "source": []
  },
  {
   "cell_type": "code",
   "execution_count": null,
   "metadata": {},
   "outputs": [],
   "source": []
  },
  {
   "cell_type": "code",
   "execution_count": 9,
   "metadata": {},
   "outputs": [
    {
     "data": {
      "image/png": "[encoded data removed]",
      "text/plain": [
       "<Figure size 864x576 with 2 Axes>"
      ]
     },
     "metadata": {
      "needs_background": "light"
     },
     "output_type": "display_data"
    }
   ],
   "source": [
    "fig, axes = plt.subplots(1, 2, figsize=(12, 8))\n",
    "\n",
    "ax = fig.axes[0]\n",
    "ax.set_xticklabels(ax.xaxis.get_majorticklabels(), rotation=45)\n",
    "sns.countplot(x=\"flag_transaksi_fraud\", data=newdatatrain, ax=ax)\n",
    "total = len(newdatatrain)\n",
    "for p in ax.patches:\n",
    "        ax.annotate('{} unit ({:.1f}%)'.format(p.get_height(), 100*p.get_height()/total), (p.get_x()+0.1, p.get_height()+5))\n",
    "# ax.title(\"flag_transaksi_fraud new data\")\n",
    "\n",
    "ax = fig.axes[1]\n",
    "ax.set_xticklabels(ax.xaxis.get_majorticklabels(), rotation=45)\n",
    "sns.countplot(x=\"flag_transaksi_fraud\", data=datatrain, ax=ax)\n",
    "total = len(datatrain)\n",
    "for p in ax.patches:\n",
    "        ax.annotate('{} unit ({:.1f}%)'.format(p.get_height(), 100*p.get_height()/total), (p.get_x()+0.1, p.get_height()+5))\n",
    "# ax.title(\"flag_transaksi_fraud old data\")"
   ]
  },
  {
   "cell_type": "code",
   "execution_count": 10,
   "metadata": {},
   "outputs": [
    {
     "data": {
      "text/plain": [
       "1    9952\n",
       "0    9952\n",
       "Name: flag_transaksi_fraud, dtype: int64"
      ]
     },
     "execution_count": 10,
     "metadata": {},
     "output_type": "execute_result"
    }
   ],
   "source": [
    "from sklearn.utils import resample\n",
    "# Separate majority and minority classes\n",
    "df_majority = newdatatrain[newdatatrain.flag_transaksi_fraud==0]\n",
    "df_minority = newdatatrain[newdatatrain.flag_transaksi_fraud==1]\n",
    " \n",
    "# Upsample minority class\n",
    "df_minority_upsampled = resample(df_minority, \n",
    "                                 replace=True,     # sample with replacement\n",
    "                                 n_samples=9952,    # to match majority class\n",
    "                                 random_state=123) # reproducible results\n",
    " \n",
    "# Combine majority class with upsampled minority class\n",
    "df_upsampled = pd.concat([df_majority, df_minority_upsampled])\n",
    " \n",
    "# Display new class counts\n",
    "df_upsampled.flag_transaksi_fraud.value_counts()\n",
    "# 1    576\n",
    "# 0    576\n",
    "# Name: balance, dtype: int64"
   ]
  },
  {
   "cell_type": "code",
   "execution_count": 11,
   "metadata": {},
   "outputs": [
    {
     "data": {
      "image/png": "[encoded data removed]",
      "text/plain": [
       "<Figure size 864x576 with 2 Axes>"
      ]
     },
     "metadata": {
      "needs_background": "light"
     },
     "output_type": "display_data"
    }
   ],
   "source": [
    "fig, axes = plt.subplots(1, 2, figsize=(12, 8))\n",
    "\n",
    "ax = fig.axes[0]\n",
    "ax.set_xticklabels(ax.xaxis.get_majorticklabels(), rotation=45)\n",
    "sns.countplot(x=\"flag_transaksi_fraud\", data=df_upsampled, ax=ax)\n",
    "total = len(df_upsampled)\n",
    "for p in ax.patches:\n",
    "        ax.annotate('{} unit ({:.1f}%)'.format(p.get_height(), 100*p.get_height()/total), (p.get_x()+0.1, p.get_height()+5))\n",
    "# ax.title(\"flag_transaksi_fraud new data\")\n",
    "\n",
    "ax = fig.axes[1]\n",
    "ax.set_xticklabels(ax.xaxis.get_majorticklabels(), rotation=45)\n",
    "sns.countplot(x=\"flag_transaksi_fraud\", data=datatrain, ax=ax)\n",
    "total = len(datatrain)\n",
    "for p in ax.patches:\n",
    "        ax.annotate('{} unit ({:.1f}%)'.format(p.get_height(), 100*p.get_height()/total), (p.get_x()+0.1, p.get_height()+5))\n",
    "# ax.title(\"flag_transaksi_fraud old data\")"
   ]
  },
  {
   "cell_type": "code",
   "execution_count": 12,
   "metadata": {},
   "outputs": [
    {
     "data": {
      "text/plain": [
       "1    670\n",
       "0    670\n",
       "Name: flag_transaksi_fraud, dtype: int64"
      ]
     },
     "execution_count": 12,
     "metadata": {},
     "output_type": "execute_result"
    }
   ],
   "source": [
    "# Separate majority and minority classes\n",
    "df_majority = newdatatrain[newdatatrain.flag_transaksi_fraud==0]\n",
    "df_minority = newdatatrain[newdatatrain.flag_transaksi_fraud==1]\n",
    " \n",
    "# Downsample majority class\n",
    "df_majority_downsampled = resample(df_majority, \n",
    "                                 replace=False,    # sample without replacement\n",
    "                                 n_samples=670,     # to match minority class\n",
    "                                 random_state=123) # reproducible results\n",
    " \n",
    "# Combine minority class with downsampled majority class\n",
    "df_downsampled = pd.concat([df_majority_downsampled, df_minority])\n",
    " \n",
    "# Display new class counts\n",
    "df_downsampled.flag_transaksi_fraud.value_counts()\n",
    "# 1    49\n",
    "# 0    49\n",
    "# Name: balance, dtype: int64"
   ]
  },
  {
   "cell_type": "code",
   "execution_count": 13,
   "metadata": {},
   "outputs": [
    {
     "data": {
      "image/png": "[encoded data removed]",
      "text/plain": [
       "<Figure size 864x576 with 4 Axes>"
      ]
     },
     "metadata": {
      "needs_background": "light"
     },
     "output_type": "display_data"
    }
   ],
   "source": [
    "fig, axes = plt.subplots(2, 2, figsize=(12, 8))\n",
    "\n",
    "ax = fig.axes[0]\n",
    "ax.set_xticklabels(ax.xaxis.get_majorticklabels(), rotation=45)\n",
    "sns.countplot(x=\"flag_transaksi_fraud\", data=newdatatrain, ax=ax)\n",
    "total = len(newdatatrain)\n",
    "for p in ax.patches:\n",
    "        ax.annotate('{} unit ({:.1f}%)'.format(p.get_height(), 100*p.get_height()/total), (p.get_x()+0.1, p.get_height()+5))\n",
    "# ax.title(\"flag_transaksi_fraud new data\")\n",
    "\n",
    "\n",
    "ax = fig.axes[1]\n",
    "ax.set_xticklabels(ax.xaxis.get_majorticklabels(), rotation=45)\n",
    "sns.countplot(x=\"flag_transaksi_fraud\", data=datatrain, ax=ax)\n",
    "total = len(datatrain)\n",
    "for p in ax.patches:\n",
    "        ax.annotate('{} unit ({:.1f}%)'.format(p.get_height(), 100*p.get_height()/total), (p.get_x()+0.1, p.get_height()+5))\n",
    "# ax.title(\"flag_transaksi_fraud old data\")\n",
    "\n",
    "\n",
    "ax = fig.axes[2]\n",
    "ax.set_xticklabels(ax.xaxis.get_majorticklabels(), rotation=45)\n",
    "sns.countplot(x=\"flag_transaksi_fraud\", data=df_upsampled, ax=ax)\n",
    "total = len(df_upsampled)\n",
    "for p in ax.patches:\n",
    "        ax.annotate('{} unit ({:.1f}%)'.format(p.get_height(), 100*p.get_height()/total), (p.get_x()+0.1, p.get_height()+5))\n",
    "# ax.title(\"flag_transaksi_fraud old data\")\n",
    "\n",
    "\n",
    "ax = fig.axes[3]\n",
    "ax.set_xticklabels(ax.xaxis.get_majorticklabels(), rotation=45)\n",
    "sns.countplot(x=\"flag_transaksi_fraud\", data=df_downsampled, ax=ax)\n",
    "total = len(df_downsampled)\n",
    "for p in ax.patches:\n",
    "        ax.annotate('{} unit ({:.1f}%)'.format(p.get_height(), 100*p.get_height()/total), (p.get_x()+0.1, p.get_height()+5))\n",
    "# ax.title(\"flag_transaksi_fraud old data\")"
   ]
  },
  {
   "cell_type": "code",
   "execution_count": null,
   "metadata": {},
   "outputs": [],
   "source": [
    "from sklearn.linear_model import LogisticRegression\n",
    "from sklearn.metrics import accuracy_score"
   ]
  },
  {
   "cell_type": "code",
   "execution_count": 21,
   "metadata": {},
   "outputs": [
    {
     "name": "stdout",
     "output_type": "stream",
     "text": [
      "[0 1]\n",
      "0.6888059701492537\n"
     ]
    }
   ],
   "source": [
    "# Separate input features (X) and target variable (y)\n",
    "y = df_downsampled.flag_transaksi_fraud\n",
    "X = df_downsampled.drop('flag_transaksi_fraud', axis=1)\n",
    " \n",
    "# Train model\n",
    "clf_2 = LogisticRegression().fit(X, y)\n",
    " \n",
    "# Predict on training set\n",
    "pred_y_2 = clf_2.predict(X)\n",
    " \n",
    "# Is our model still predicting just one class?\n",
    "print( np.unique( pred_y_2 ) )\n",
    "# [0 1]\n",
    " \n",
    "# How's our accuracy?\n",
    "print( accuracy_score(y, pred_y_2) )\n",
    "# 0.581632653061"
   ]
  },
  {
   "cell_type": "code",
   "execution_count": 22,
   "metadata": {},
   "outputs": [
    {
     "name": "stdout",
     "output_type": "stream",
     "text": [
      "[0 1]\n",
      "0.6864449356913184\n"
     ]
    }
   ],
   "source": [
    "# Separate input features (X) and target variable (y)\n",
    "y = df_upsampled.flag_transaksi_fraud\n",
    "X = df_upsampled.drop('flag_transaksi_fraud', axis=1)\n",
    " \n",
    "# Train model\n",
    "clf_2 = LogisticRegression().fit(X, y)\n",
    " \n",
    "# Predict on training set\n",
    "pred_y_2 = clf_2.predict(X)\n",
    " \n",
    "# Is our model still predicting just one class?\n",
    "print( np.unique( pred_y_2 ) )\n",
    "# [0 1]\n",
    " \n",
    "# How's our accuracy?\n",
    "print( accuracy_score(y, pred_y_2) )\n",
    "# 0.581632653061"
   ]
  },
  {
   "cell_type": "code",
   "execution_count": 31,
   "metadata": {},
   "outputs": [
    {
     "name": "stdout",
     "output_type": "stream",
     "text": [
      "[0 1]\n",
      "0.93673507813971\n"
     ]
    }
   ],
   "source": [
    "# Separate input features (X) and target variable (y)\n",
    "y = newdatatrain.flag_transaksi_fraud\n",
    "X = newdatatrain.drop('flag_transaksi_fraud', axis=1)\n",
    " \n",
    "# Train model\n",
    "clf_2 = LogisticRegression().fit(X, y)\n",
    " \n",
    "# Predict on training set\n",
    "pred_y_2 = clf_2.predict(X)\n",
    " \n",
    "# Is our model still predicting just one class?\n",
    "print( np.unique( pred_y_2 ) )\n",
    "# [0 1]\n",
    " \n",
    "# How's our accuracy?\n",
    "print( accuracy_score(y, pred_y_2) )\n",
    "# 0.581632653061"
   ]
  },
  {
   "cell_type": "code",
   "execution_count": 27,
   "metadata": {},
   "outputs": [
    {
     "name": "stdout",
     "output_type": "stream",
     "text": [
      "[0 1]\n",
      "0.9320054945054945\n"
     ]
    }
   ],
   "source": [
    "# Separate input features (X) and target variable (y)\n",
    "nd = datatrain.dropna()\n",
    "y = nd.flag_transaksi_fraud\n",
    "X = nd.drop('flag_transaksi_fraud', axis=1)\n",
    " \n",
    "# Train model\n",
    "clf_2 = LogisticRegression().fit(X, y)\n",
    " \n",
    "# Predict on training set\n",
    "pred_y_2 = clf_2.predict(X)\n",
    " \n",
    "# Is our model still predicting just one class?\n",
    "print( np.unique( pred_y_2 ) )\n",
    "# [0 1]\n",
    " \n",
    "# How's our accuracy?\n",
    "print( accuracy_score(y, pred_y_2) )\n",
    "# 0.581632653061"
   ]
  },
  {
   "cell_type": "code",
   "execution_count": 32,
   "metadata": {},
   "outputs": [
    {
     "name": "stdout",
     "output_type": "stream",
     "text": [
      "[0 1]\n",
      "0.9108669108669109\n"
     ]
    }
   ],
   "source": [
    "datatest = datatest.dropna()\n",
    "y_test = datatest.flag_transaksi_fraud\n",
    "X_test = datatest.drop('flag_transaksi_fraud', axis=1)\n",
    "\n",
    "# Predict on training set\n",
    "pred_y_2 = clf_2.predict(X_test)\n",
    " \n",
    "# Is our model still predicting just one class?\n",
    "print( np.unique( pred_y_2 ) )\n",
    "# [0 1]\n",
    " \n",
    "# How's our accuracy?\n",
    "print( accuracy_score(y_test, pred_y_2) )\n",
    "# 0.581632653061"
   ]
  },
  {
   "cell_type": "code",
   "execution_count": 34,
   "metadata": {},
   "outputs": [
    {
     "name": "stdout",
     "output_type": "stream",
     "text": [
      "10-fold cross validation average accuracy: 0.937\n"
     ]
    }
   ],
   "source": [
    "from sklearn import model_selection\n",
    "from sklearn.model_selection import cross_val_score\n",
    "kfold = model_selection.KFold(n_splits=10, random_state=7)\n",
    "modelCV = LogisticRegression()\n",
    "scoring = 'accuracy'\n",
    "results = model_selection.cross_val_score(modelCV, X, y, cv=kfold, scoring=scoring)\n",
    "print(\"10-fold cross validation average accuracy: %.3f\" % (results.mean()))"
   ]
  },
  {
   "cell_type": "code",
   "execution_count": 36,
   "metadata": {},
   "outputs": [
    {
     "name": "stdout",
     "output_type": "stream",
     "text": [
      "[[11826   384]\n",
      " [  784   110]]\n",
      "Accuracy of logistic regression classifier on test set: 0.91\n"
     ]
    }
   ],
   "source": [
    "from sklearn.metrics import confusion_matrix\n",
    "confusion_matrix = confusion_matrix(y_test, pred_y_2)\n",
    "print(confusion_matrix)\n",
    "print('Accuracy of logistic regression classifier on test set: {:.2f}'.format(clf_2.score(X_test, y_test)))"
   ]
  },
  {
   "cell_type": "code",
   "execution_count": 37,
   "metadata": {},
   "outputs": [
    {
     "name": "stdout",
     "output_type": "stream",
     "text": [
      "             precision    recall  f1-score   support\n",
      "\n",
      "          0       0.94      0.97      0.95     12210\n",
      "          1       0.22      0.12      0.16       894\n",
      "\n",
      "avg / total       0.89      0.91      0.90     13104\n",
      "\n"
     ]
    }
   ],
   "source": [
    "from sklearn.metrics import classification_report\n",
    "print(classification_report(y_test, pred_y_2))"
   ]
  },
  {
   "cell_type": "code",
   "execution_count": 33,
   "metadata": {},
   "outputs": [
    {
     "data": {
      "image/png": "[encoded data removed]",
      "text/plain": [
       "<Figure size 432x288 with 1 Axes>"
      ]
     },
     "metadata": {
      "needs_background": "light"
     },
     "output_type": "display_data"
    }
   ],
   "source": [
    "from sklearn.metrics import roc_auc_score\n",
    "from sklearn.metrics import roc_curve\n",
    "logit_roc_auc = roc_auc_score(y_test, clf_2.predict(X_test))\n",
    "fpr, tpr, thresholds = roc_curve(y_test, clf_2.predict_proba(X_test)[:,1])\n",
    "plt.figure()\n",
    "plt.plot(fpr, tpr, label='Logistic Regression (area = %0.2f)' % logit_roc_auc)\n",
    "plt.plot([0, 1], [0, 1],'r--')\n",
    "plt.xlim([0.0, 1.0])\n",
    "plt.ylim([0.0, 1.05])\n",
    "plt.xlabel('False Positive Rate')\n",
    "plt.ylabel('True Positive Rate')\n",
    "plt.title('Receiver operating characteristic')\n",
    "plt.legend(loc=\"lower right\")\n",
    "plt.savefig('Log_ROC')\n",
    "plt.show()"
   ]
  },
  {
   "cell_type": "markdown",
   "metadata": {},
   "source": []
  },
  {
   "cell_type": "code",
   "execution_count": null,
   "metadata": {},
   "outputs": [],
   "source": []
  }
 ],
 "metadata": {
  "kernelspec": {
   "display_name": "Python 3",
   "language": "python",
   "name": "python3"
  },
  "language_info": {
   "codemirror_mode": {
    "name": "ipython",
    "version": 3
   },
   "file_extension": ".py",
   "mimetype": "text/x-python",
   "name": "python",
   "nbconvert_exporter": "python",
   "pygments_lexer": "ipython3",
   "version": "3.5.2"
  }
 },
 "nbformat": 4,
 "nbformat_minor": 2
}
